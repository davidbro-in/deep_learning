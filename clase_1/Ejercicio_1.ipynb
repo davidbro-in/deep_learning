{
  "nbformat": 4,
  "nbformat_minor": 0,
  "metadata": {
    "colab": {
      "name": "Untitled0.ipynb",
      "provenance": [],
      "authorship_tag": "ABX9TyM4HhXTQxzSNeX8UP1Ye22E",
      "include_colab_link": true
    },
    "kernelspec": {
      "name": "python3",
      "display_name": "Python 3"
    },
    "language_info": {
      "name": "python"
    }
  },
  "cells": [
    {
      "cell_type": "markdown",
      "metadata": {
        "id": "view-in-github",
        "colab_type": "text"
      },
      "source": [
        "<a href=\"https://colab.research.google.com/github/davidbro-in/deep_learning/blob/main/clase_1/Ejercicio_1.ipynb\" target=\"_parent\"><img src=\"https://colab.research.google.com/assets/colab-badge.svg\" alt=\"Open In Colab\"/></a>"
      ]
    },
    {
      "cell_type": "markdown",
      "metadata": {
        "id": "SYqBlMRbeKPu"
      },
      "source": [
        "# Clase 1\n",
        "## Resolver XOR con modelo lineal\n",
        "### XOR\n",
        "| $ x_1 $ | $ x_2 $ | $$ y = x_1 \\oplus x_2 $$ |\n",
        "| ------- | ------- | :----------------------: |\n",
        "| 0 | 0 | 0 |\n",
        "| 0 | 1 | 1 |\n",
        "| 1 | 0 | 1 |\n",
        "| 1 | 1 | 0 |\n",
        "\n",
        "### Modelo\n",
        "\n",
        "$ y = x_1 w_1 + x_2 w_2 + b $\n",
        "\n",
        "### Paquetes necesarios"
      ]
    },
    {
      "cell_type": "code",
      "metadata": {
        "id": "Jclskm4lfrg6"
      },
      "source": [
        "import numpy as np"
      ],
      "execution_count": null,
      "outputs": []
    },
    {
      "cell_type": "markdown",
      "metadata": {
        "id": "g7padFI1fxYz"
      },
      "source": [
        "### Planteo"
      ]
    },
    {
      "cell_type": "code",
      "metadata": {
        "id": "-LSxJnZKU7dw"
      },
      "source": [
        "X = np.array([[0, 0], [0, 1], [1, 0], [1, 1]])\n",
        "Y = np.array([[0], [1], [1], [0]])"
      ],
      "execution_count": null,
      "outputs": []
    },
    {
      "cell_type": "markdown",
      "metadata": {
        "id": "AbFePTAbgU2o"
      },
      "source": [
        "### Regresión lineal\n",
        "$$ \\bar{W} = \\begin{bmatrix} w_1 \\\\ w_2 \\\\ b  \\end{bmatrix} = (X^T X)^{-1} X^T Y $$\n",
        "\n",
        "#### Agregar una columna para contemplar $ b $ y resolver\n"
      ]
    },
    {
      "cell_type": "code",
      "metadata": {
        "colab": {
          "base_uri": "https://localhost:8080/"
        },
        "id": "fKQe9P0ZjTn8",
        "outputId": "49031c8c-96bc-4c1d-8dc2-8fbe644d16e3"
      },
      "source": [
        "X = np.hstack((X, np.ones((4, 1))))\n",
        "W = np.linalg.inv(X.T @ X) @ X.T @ Y\n",
        "print(W)"
      ],
      "execution_count": null,
      "outputs": [
        {
          "output_type": "stream",
          "text": [
            "[[0.00000000e+00]\n",
            " [2.22044605e-16]\n",
            " [5.00000000e-01]]\n"
          ],
          "name": "stdout"
        }
      ]
    },
    {
      "cell_type": "markdown",
      "metadata": {
        "id": "c8g5einglM2q"
      },
      "source": [
        "### Validación del modelo\n",
        "$ Y = X \\cdot W $"
      ]
    },
    {
      "cell_type": "code",
      "metadata": {
        "colab": {
          "base_uri": "https://localhost:8080/"
        },
        "id": "YdwKkgL_l4xQ",
        "outputId": "db94a9b3-276f-4af4-e54f-c95547d75f79"
      },
      "source": [
        "Y = X @ W\n",
        "print(Y)"
      ],
      "execution_count": null,
      "outputs": [
        {
          "output_type": "stream",
          "text": [
            "[[0.5]\n",
            " [0.5]\n",
            " [0.5]\n",
            " [0.5]]\n"
          ],
          "name": "stdout"
        }
      ]
    },
    {
      "cell_type": "markdown",
      "metadata": {
        "id": "-AX-wGGJxKC4"
      },
      "source": [
        "## Resolver XOR con modelo no lineal"
      ]
    },
    {
      "cell_type": "code",
      "metadata": {
        "id": "MAczUnWXxM9-"
      },
      "source": [
        ""
      ],
      "execution_count": null,
      "outputs": []
    }
  ]
}